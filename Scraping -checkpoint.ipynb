{
 "cells": [
  {
   "cell_type": "code",
   "execution_count": 1,
   "metadata": {},
   "outputs": [
    {
     "name": "stdout",
     "output_type": "stream",
     "text": [
      "Requirement already satisfied: nltk in c:\\users\\asus\\anaconda3\\lib\\site-packages (3.5)Note: you may need to restart the kernel to use updated packages.\n",
      "\n",
      "Requirement already satisfied: regex in c:\\users\\asus\\anaconda3\\lib\\site-packages (from nltk) (2020.6.8)\n",
      "Requirement already satisfied: tqdm in c:\\users\\asus\\anaconda3\\lib\\site-packages (from nltk) (4.47.0)\n",
      "Requirement already satisfied: click in c:\\users\\asus\\anaconda3\\lib\\site-packages (from nltk) (7.1.2)\n",
      "Requirement already satisfied: joblib in c:\\users\\asus\\anaconda3\\lib\\site-packages (from nltk) (0.16.0)\n"
     ]
    }
   ],
   "source": [
    "pip install nltk "
   ]
  },
  {
   "cell_type": "code",
   "execution_count": 2,
   "metadata": {},
   "outputs": [
    {
     "name": "stdout",
     "output_type": "stream",
     "text": [
      "Requirement already satisfied: newspaper3K in c:\\users\\asus\\anaconda3\\lib\\site-packages (0.2.8)\n",
      "Requirement already satisfied: Pillow>=3.3.0 in c:\\users\\asus\\anaconda3\\lib\\site-packages (from newspaper3K) (7.2.0)\n",
      "Requirement already satisfied: feedfinder2>=0.0.4 in c:\\users\\asus\\anaconda3\\lib\\site-packages (from newspaper3K) (0.0.4)\n",
      "Requirement already satisfied: tldextract>=2.0.1 in c:\\users\\asus\\anaconda3\\lib\\site-packages (from newspaper3K) (3.1.1)\n",
      "Requirement already satisfied: jieba3k>=0.35.1 in c:\\users\\asus\\anaconda3\\lib\\site-packages (from newspaper3K) (0.35.1)\n",
      "Requirement already satisfied: PyYAML>=3.11 in c:\\users\\asus\\anaconda3\\lib\\site-packages (from newspaper3K) (5.3.1)\n",
      "Requirement already satisfied: requests>=2.10.0 in c:\\users\\asus\\anaconda3\\lib\\site-packages (from newspaper3K) (2.24.0)\n",
      "Requirement already satisfied: nltk>=3.2.1 in c:\\users\\asus\\anaconda3\\lib\\site-packages (from newspaper3K) (3.5)\n",
      "Requirement already satisfied: feedparser>=5.2.1 in c:\\users\\asus\\anaconda3\\lib\\site-packages (from newspaper3K) (6.0.8)\n",
      "Requirement already satisfied: cssselect>=0.9.2 in c:\\users\\asus\\anaconda3\\lib\\site-packages (from newspaper3K) (1.1.0)\n",
      "Requirement already satisfied: python-dateutil>=2.5.3 in c:\\users\\asus\\anaconda3\\lib\\site-packages (from newspaper3K) (2.8.1)\n",
      "Requirement already satisfied: beautifulsoup4>=4.4.1 in c:\\users\\asus\\anaconda3\\lib\\site-packages (from newspaper3K) (4.9.1)\n",
      "Requirement already satisfied: tinysegmenter==0.3 in c:\\users\\asus\\anaconda3\\lib\\site-packages (from newspaper3K) (0.3)\n",
      "Requirement already satisfied: lxml>=3.6.0 in c:\\users\\asus\\anaconda3\\lib\\site-packages (from newspaper3K) (4.5.2)\n",
      "Requirement already satisfied: six in c:\\users\\asus\\anaconda3\\lib\\site-packages (from feedfinder2>=0.0.4->newspaper3K) (1.15.0)\n",
      "Requirement already satisfied: filelock>=3.0.8 in c:\\users\\asus\\anaconda3\\lib\\site-packages (from tldextract>=2.0.1->newspaper3K) (3.0.12)\n",
      "Requirement already satisfied: requests-file>=1.4 in c:\\users\\asus\\anaconda3\\lib\\site-packages (from tldextract>=2.0.1->newspaper3K) (1.5.1)\n",
      "Requirement already satisfied: idna in c:\\users\\asus\\anaconda3\\lib\\site-packages (from tldextract>=2.0.1->newspaper3K) (2.10)\n",
      "Requirement already satisfied: certifi>=2017.4.17 in c:\\users\\asus\\anaconda3\\lib\\site-packages (from requests>=2.10.0->newspaper3K) (2020.6.20)\n",
      "Requirement already satisfied: chardet<4,>=3.0.2 in c:\\users\\asus\\anaconda3\\lib\\site-packages (from requests>=2.10.0->newspaper3K) (3.0.4)\n",
      "Requirement already satisfied: urllib3!=1.25.0,!=1.25.1,<1.26,>=1.21.1 in c:\\users\\asus\\anaconda3\\lib\\site-packages (from requests>=2.10.0->newspaper3K) (1.25.9)\n",
      "Note: you may need to restart the kernel to use updated packages.Requirement already satisfied: joblib in c:\\users\\asus\\anaconda3\\lib\\site-packages (from nltk>=3.2.1->newspaper3K) (0.16.0)\n",
      "Requirement already satisfied: regex in c:\\users\\asus\\anaconda3\\lib\\site-packages (from nltk>=3.2.1->newspaper3K) (2020.6.8)\n",
      "Requirement already satisfied: tqdm in c:\\users\\asus\\anaconda3\\lib\\site-packages (from nltk>=3.2.1->newspaper3K) (4.47.0)\n",
      "Requirement already satisfied: click in c:\\users\\asus\\anaconda3\\lib\\site-packages (from nltk>=3.2.1->newspaper3K) (7.1.2)\n",
      "\n",
      "Requirement already satisfied: sgmllib3k in c:\\users\\asus\\anaconda3\\lib\\site-packages (from feedparser>=5.2.1->newspaper3K) (1.0.0)\n",
      "Requirement already satisfied: soupsieve>1.2 in c:\\users\\asus\\anaconda3\\lib\\site-packages (from beautifulsoup4>=4.4.1->newspaper3K) (2.0.1)\n"
     ]
    }
   ],
   "source": [
    "pip install newspaper3K"
   ]
  },
  {
   "cell_type": "code",
   "execution_count": 16,
   "metadata": {},
   "outputs": [],
   "source": [
    "# Importer les packages \n",
    "from newspaper import Article \n",
    "import nltk\n",
    "import pandas as pd"
   ]
  },
  {
   "cell_type": "code",
   "execution_count": 36,
   "metadata": {
    "scrolled": true
   },
   "outputs": [
    {
     "name": "stdout",
     "output_type": "stream",
     "text": [
      "['Informations sur les maladies : symptômes, diagnostic, traitements, prévention', \"Vous trouverez dans cet espace des fiches d’information détaillées sur plus de 200 maladies : explications sur la pathologie, les symptômes et le diagnostic, les causes et la prévention, les traitements utilisés.\\n\\nLes professionnels de santé connectés peuvent accéder directement à la liste des VIDAL Recos. Ces contenus sont des synthèses des recommandations thérapeutiques de l'ANSM, de la HAS et des sociétés savantes françaises et internationales. Elles comportent différentes pathologies et situations médicales, illustrées de plus de 260 arbres décisionnels : prise en charge thérapeutique du diagnostic jusqu'au traitement et des listes exhaustives des médicaments indiqués pour chaque pathologie.\\n\\nLes patients et leurs proches trouveront toutes les informations leur permettant de mieux comprendre une maladie, rédigées dans un langage à la portée de tous, facilitant le dialogue avec votre médecin et pharmacien. Les différentes fiches d’information sur les maladies comportent notamment des tableaux couleurs destinés à vous aider, à titre seulement indicatif, à identifier le degré d’urgence et de gravité suggéré par les symptômes observés, ainsi que la liste des médicaments disponible en officine dont l’autorisation de mise sur le marché spécifie explicitement qu’ils peuvent être prescrits dans le traitement de cette maladie.\"] \n",
      " \n",
      " \n",
      "\n",
      "[\"Maladies chez l 'adulte : les identifier et les traiter\", 'Le syndrome du côlon irritable est un trouble bénin mais qui peut perturber la vie quotidienne. Il se traduit par des maux de ventre, des diarrhées, de la constipation et des ballonnements. Aggravé par le stress et...'] \n",
      " \n",
      " \n",
      "\n",
      "[\"Maladies chez l'enfant : les identifier et les traiter\", 'Les poux sont des parasites de l’homme qui se nourrissent de sang (insectes hématophages) et qui vivent dans les cheveux, les poils ou les vêtements. Un traitement de l’enfant, mais aussi de son entourage, est nécessaire pour...'] \n",
      " \n",
      " \n",
      "\n"
     ]
    }
   ],
   "source": [
    "# Spécifier les articles qui m'interessent \n",
    "urls=[\"https://www.vidal.fr/maladies.html\",\"https://www.vidal.fr/maladies/chez-adulte.html\",\"https://www.vidal.fr/maladies/chez-les-enfants.html\"]\n",
    "\n",
    "def url_text(urls):\n",
    "    A=[]\n",
    "    article=Article(urls, language=\"fr\")\n",
    "    article.download()\n",
    "    article.parse()\n",
    "    titre=article.title\n",
    "    text=article.text\n",
    "    A.append(titre)\n",
    "    A.append(text)\n",
    "    return A\n",
    "for i in urls:\n",
    "    texts=url_text(i)\n",
    "    print (texts,\"\\n \\n \\n\")"
   ]
  },
  {
   "cell_type": "code",
   "execution_count": null,
   "metadata": {},
   "outputs": [],
   "source": []
  }
 ],
 "metadata": {
  "kernelspec": {
   "display_name": "Python 3",
   "language": "python",
   "name": "python3"
  },
  "language_info": {
   "codemirror_mode": {
    "name": "ipython",
    "version": 3
   },
   "file_extension": ".py",
   "mimetype": "text/x-python",
   "name": "python",
   "nbconvert_exporter": "python",
   "pygments_lexer": "ipython3",
   "version": "3.8.3"
  }
 },
 "nbformat": 4,
 "nbformat_minor": 4
}
